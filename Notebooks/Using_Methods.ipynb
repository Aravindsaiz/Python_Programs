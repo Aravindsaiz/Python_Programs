{
 "cells": [
  {
   "cell_type": "markdown",
   "id": "5a6655c3-ad8d-4216-bd7c-e28468cd365b",
   "metadata": {},
   "source": [
    "<h3>Question 1:</h3>\n",
    "<p>Write a program which accepts a sequence of comma-separated numbers from console and generate a list and a tuple which contains every number.Suppose the following input is supplied to the program:\r\n",
    "\r\n",
    "34,67,55,33,12,98\r\n",
    "\r\n",
    "Then, the output should be:\r\n",
    "\r\n",
    "['34', '67', '55', '33', '12', '98'] ('34', '67', '55', '33', '12', '98')</p>"
   ]
  },
  {
   "cell_type": "code",
   "execution_count": 4,
   "id": "812e8a63-cc11-4b7b-83b9-8d9179ab3470",
   "metadata": {},
   "outputs": [
    {
     "name": "stdin",
     "output_type": "stream",
     "text": [
      "Enter comma seperated sequence 12,54,81,5,11,62,27,15\n"
     ]
    },
    {
     "name": "stdout",
     "output_type": "stream",
     "text": [
      "given sequence 12,54,81,5,11,62,27,15\n",
      "Tuple\n",
      "('12', '54', '81', '5', '11', '62', '27', '15')\n",
      "List\n",
      "['12', '54', '81', '5', '11', '62', '27', '15']\n"
     ]
    }
   ],
   "source": [
    "##### question 1 answer\n",
    "given_input = input(\"Enter comma seperated sequence\")\n",
    "print(f\"given sequence {given_input}\")\n",
    "print(\"Tuple\",tuple(given_input.split(\",\")),sep=\"\\n\")\n",
    "print(\"List\",given_input.split(\",\"),sep=\"\\n\")\n"
   ]
  },
  {
   "cell_type": "code",
   "execution_count": null,
   "id": "92fad355-b9ed-4097-b9b5-daef0a27fee1",
   "metadata": {},
   "outputs": [],
   "source": []
  },
  {
   "cell_type": "markdown",
   "id": "dea991e4-4c61-493d-9c10-40b940ccadd1",
   "metadata": {},
   "source": [
    "<h3>Question 2:</h3>\n",
    "<p>Define a class which has at least two methods:</p>\r",
    "<ol>\n",
    "    <li>getString: to get a string from console input</li>\n",
    "    <li>printString: to print the string in upper case.</li>\n",
    "</ol>\n",
    "\n",
    "<p>Also please include simple test function to test the class methods.</p>p>/p>"
   ]
  },
  {
   "cell_type": "code",
   "execution_count": 13,
   "id": "89bd76bf-64c1-4e2c-9714-770390f42a14",
   "metadata": {},
   "outputs": [],
   "source": [
    "#  Answer for question2\n",
    "#part 1/2\n",
    "class stringer():\n",
    "\n",
    "    def __init__(self):\n",
    "        self.mystring = \"\"\n",
    "\n",
    "    def printString(self):\n",
    "        print(self.mystring.upper())\n",
    "        \n",
    "    def getString(self):\n",
    "        self.mystring = input(\"Enter String :=\")\n",
    "        "
   ]
  },
  {
   "cell_type": "code",
   "execution_count": 14,
   "id": "9490326a-06fc-4eed-934f-07fcf2fdb86d",
   "metadata": {},
   "outputs": [
    {
     "name": "stdin",
     "output_type": "stream",
     "text": [
      "Enter String := Hello\n"
     ]
    },
    {
     "name": "stdout",
     "output_type": "stream",
     "text": [
      "HELLO\n"
     ]
    }
   ],
   "source": [
    "# Answer for question 2 , part 2/2\n",
    "myobj = stringer()\n",
    "myobj.getString()\n",
    "myobj.printString()\n",
    "# has to yet include test function"
   ]
  },
  {
   "cell_type": "code",
   "execution_count": null,
   "id": "2093791e-6580-4bac-85bf-cddc98bbb9c2",
   "metadata": {},
   "outputs": [],
   "source": []
  },
  {
   "cell_type": "markdown",
   "id": "7070fa71-6a63-491d-98ba-5dd582078307",
   "metadata": {},
   "source": [
    "<h3>Question 3: Password Valudator !!</h3>\n",
    "<p>\n",
    "    <ol>\n",
    "        <li>length should be 8 - 16 </li>\n",
    "        <li>have atleast one cap letter, small letter, number, special character</li>\n",
    "    </ol>\n",
    "</p>"
   ]
  },
  {
   "cell_type": "code",
   "execution_count": 19,
   "id": "bf4dc33c-2989-4928-8302-ebc52dddff90",
   "metadata": {},
   "outputs": [],
   "source": [
    "import re\n",
    "\n",
    "def compiler(regex,string,message):\n",
    "    comp = re.compile(regex)\n",
    "    status = comp.search(string)\n",
    "    return True if status else message\n",
    "\n",
    "def check_pwd(given_pwd):\n",
    "\n",
    "    cap_check  = compiler(\"[A-Z]+\",given_pwd,\"should have alteast a caps letter\")\n",
    "    small_check = compiler(\"[a-z]+\",given_pwd,\"should have atleast a small letter\")\n",
    "    number_check = compiler(\"\\d+\",given_pwd,\"should have atleast a number\")\n",
    "    special_char_check = compiler(\"[^A-Za-z0-9]+\",given_pwd,\"should have atleast a special char\")\n",
    "    length_check = compiler(\".{8,16}\",given_pwd,\"not a valid length, should be 8-16\")\n",
    "    checkers = [cap_check,small_check,number_check,special_char_check,length_check]\n",
    "    \n",
    "    accept = True\n",
    "    \n",
    "    for check in checkers:\n",
    "        if not isinstance(check,bool):\n",
    "            accept = False\n",
    "            print(check)\n",
    "    \n",
    "    if accept:\n",
    "        print(\"Valid Passwod !!\")\n",
    "    else:\n",
    "        print(\"Invalid Password, refer to above Issues!!\")\n",
    "            "
   ]
  },
  {
   "cell_type": "code",
   "execution_count": 22,
   "id": "96a9ddb9-c954-437e-835a-b3ece4a0feb5",
   "metadata": {},
   "outputs": [
    {
     "name": "stdout",
     "output_type": "stream",
     "text": [
      "should have alteast a caps letter\n",
      "not a valid length, should be 8-16\n",
      "Invalid Password, refer to above Issues!!\n"
     ]
    }
   ],
   "source": [
    "check_pwd(\"!fas89\")"
   ]
  },
  {
   "cell_type": "code",
   "execution_count": 23,
   "id": "7246108c-8df5-44c1-9a16-03835e40ce1d",
   "metadata": {},
   "outputs": [
    {
     "name": "stdout",
     "output_type": "stream",
     "text": [
      "should have alteast a caps letter\n",
      "should have atleast a small letter\n",
      "should have atleast a special char\n",
      "Invalid Password, refer to above Issues!!\n"
     ]
    }
   ],
   "source": [
    "check_pwd(\"12345789\")"
   ]
  },
  {
   "cell_type": "code",
   "execution_count": 24,
   "id": "6f514791-ca00-4516-ae10-9846704203f2",
   "metadata": {},
   "outputs": [
    {
     "name": "stdout",
     "output_type": "stream",
     "text": [
      "Valid Passwod !!\n"
     ]
    }
   ],
   "source": [
    "check_pwd(\"Sdd@sdjlnfWEL90\")"
   ]
  },
  {
   "cell_type": "code",
   "execution_count": null,
   "id": "13d3645c-09fc-4a9f-accb-0430b584ba8b",
   "metadata": {},
   "outputs": [],
   "source": []
  },
  {
   "cell_type": "markdown",
   "id": "7a1d8e5d-cc7b-426d-b386-d911636db7cb",
   "metadata": {},
   "source": [
    "<h3>Question 4: </h3>\n",
    "    \n",
    "<p> addr = ['100 NORTH MAIN ROAD',\r\n",
    "            '100 BROAD ROAD APT.',\r\n",
    "            'SAROJINI DEVI ROAD',\r\n",
    "            'BROAD AVENUE RO\n",
    "</p>            AD']"
   ]
  },
  {
   "cell_type": "markdown",
   "id": "73270190-7272-4c52-b101-38575054ffe7",
   "metadata": {},
   "source": [
    "replace ROAD with RD"
   ]
  },
  {
   "cell_type": "code",
   "execution_count": 3,
   "id": "336fe8a9-c02c-4d4c-8f05-4157b8254668",
   "metadata": {},
   "outputs": [],
   "source": [
    "import re\n",
    "address = ['100 NORTH MAIN ROAD',\n",
    "            '100 BROAD ROAD APT.',\n",
    "            'SAROJINI DEVI ROAD',\n",
    "            'BROAD AVENUE ROAD']"
   ]
  },
  {
   "cell_type": "code",
   "execution_count": 10,
   "id": "ead8eaaf-748d-4d24-b4c3-96442c035c30",
   "metadata": {},
   "outputs": [],
   "source": [
    "pattern = \" (ROAD)\""
   ]
  },
  {
   "cell_type": "code",
   "execution_count": 12,
   "id": "cd9f2a58-ad97-4034-8c12-a6ba944c5e22",
   "metadata": {},
   "outputs": [
    {
     "name": "stdout",
     "output_type": "stream",
     "text": [
      "100 NORTH MAIN RD\n",
      "100 BROAD RD APT.\n",
      "SAROJINI DEVI RD\n",
      "BROAD AVENUE RD\n"
     ]
    }
   ],
   "source": [
    "for ad in address:\n",
    "    print(re.sub(pattern,\" RD\",ad))"
   ]
  },
  {
   "cell_type": "code",
   "execution_count": null,
   "id": "a5060114-24ae-41e9-9b97-4a1b4eacddff",
   "metadata": {},
   "outputs": [],
   "source": []
  }
 ],
 "metadata": {
  "kernelspec": {
   "display_name": "Python 3 (ipykernel)",
   "language": "python",
   "name": "python3"
  },
  "language_info": {
   "codemirror_mode": {
    "name": "ipython",
    "version": 3
   },
   "file_extension": ".py",
   "mimetype": "text/x-python",
   "name": "python",
   "nbconvert_exporter": "python",
   "pygments_lexer": "ipython3",
   "version": "3.9.13"
  }
 },
 "nbformat": 4,
 "nbformat_minor": 5
}
