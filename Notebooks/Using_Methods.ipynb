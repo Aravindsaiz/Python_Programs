{
 "cells": [
  {
   "cell_type": "markdown",
   "id": "5a6655c3-ad8d-4216-bd7c-e28468cd365b",
   "metadata": {},
   "source": [
    "<h3>Question 1:</h3>\n",
    "<p>Write a program which accepts a sequence of comma-separated numbers from console and generate a list and a tuple which contains every number.Suppose the following input is supplied to the program:\r\n",
    "\r\n",
    "34,67,55,33,12,98\r\n",
    "\r\n",
    "Then, the output should be:\r\n",
    "\r\n",
    "['34', '67', '55', '33', '12', '98'] ('34', '67', '55', '33', '12', '98')</p>"
   ]
  },
  {
   "cell_type": "code",
   "execution_count": 4,
   "id": "812e8a63-cc11-4b7b-83b9-8d9179ab3470",
   "metadata": {},
   "outputs": [
    {
     "name": "stdin",
     "output_type": "stream",
     "text": [
      "Enter comma seperated sequence 12,54,81,5,11,62,27,15\n"
     ]
    },
    {
     "name": "stdout",
     "output_type": "stream",
     "text": [
      "given sequence 12,54,81,5,11,62,27,15\n",
      "Tuple\n",
      "('12', '54', '81', '5', '11', '62', '27', '15')\n",
      "List\n",
      "['12', '54', '81', '5', '11', '62', '27', '15']\n"
     ]
    }
   ],
   "source": [
    "##### question 1 answer\n",
    "given_input = input(\"Enter comma seperated sequence\")\n",
    "print(f\"given sequence {given_input}\")\n",
    "print(\"Tuple\",tuple(given_input.split(\",\")),sep=\"\\n\")\n",
    "print(\"List\",given_input.split(\",\"),sep=\"\\n\")\n"
   ]
  },
  {
   "cell_type": "code",
   "execution_count": null,
   "id": "92fad355-b9ed-4097-b9b5-daef0a27fee1",
   "metadata": {},
   "outputs": [],
   "source": []
  },
  {
   "cell_type": "markdown",
   "id": "dea991e4-4c61-493d-9c10-40b940ccadd1",
   "metadata": {},
   "source": [
    "<h3>Question 2:</h3>\n",
    "<p>Define a class which has at least two methods:</p>\r",
    "<ol>\n",
    "    <li>getString: to get a string from console input</li>\n",
    "    <li>printString: to print the string in upper case.</li>\n",
    "</ol>\n",
    "\n",
    "<p>Also please include simple test function to test the class methods.</p>p>/p>"
   ]
  },
  {
   "cell_type": "code",
   "execution_count": 13,
   "id": "89bd76bf-64c1-4e2c-9714-770390f42a14",
   "metadata": {},
   "outputs": [],
   "source": [
    "#  Answer for question2\n",
    "#part 1/2\n",
    "class stringer():\n",
    "\n",
    "    def __init__(self):\n",
    "        self.mystring = \"\"\n",
    "\n",
    "    def printString(self):\n",
    "        print(self.mystring.upper())\n",
    "        \n",
    "    def getString(self):\n",
    "        self.mystring = input(\"Enter String :=\")\n",
    "        "
   ]
  },
  {
   "cell_type": "code",
   "execution_count": 14,
   "id": "9490326a-06fc-4eed-934f-07fcf2fdb86d",
   "metadata": {},
   "outputs": [
    {
     "name": "stdin",
     "output_type": "stream",
     "text": [
      "Enter String := Hello\n"
     ]
    },
    {
     "name": "stdout",
     "output_type": "stream",
     "text": [
      "HELLO\n"
     ]
    }
   ],
   "source": [
    "# Answer for question 2 , part 2/2\n",
    "myobj = stringer()\n",
    "myobj.getString()\n",
    "myobj.printString()\n",
    "# has to yet include test function"
   ]
  },
  {
   "cell_type": "code",
   "execution_count": null,
   "id": "2093791e-6580-4bac-85bf-cddc98bbb9c2",
   "metadata": {},
   "outputs": [],
   "source": []
  }
 ],
 "metadata": {
  "kernelspec": {
   "display_name": "Python 3 (ipykernel)",
   "language": "python",
   "name": "python3"
  },
  "language_info": {
   "codemirror_mode": {
    "name": "ipython",
    "version": 3
   },
   "file_extension": ".py",
   "mimetype": "text/x-python",
   "name": "python",
   "nbconvert_exporter": "python",
   "pygments_lexer": "ipython3",
   "version": "3.9.13"
  }
 },
 "nbformat": 4,
 "nbformat_minor": 5
}
