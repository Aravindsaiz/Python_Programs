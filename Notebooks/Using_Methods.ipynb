{
 "cells": [
  {
   "cell_type": "markdown",
   "id": "5a6655c3-ad8d-4216-bd7c-e28468cd365b",
   "metadata": {},
   "source": [
    "<h3>Question 1:</h3>\n",
    "<p>Write a program which accepts a sequence of comma-separated numbers from console and generate a list and a tuple which contains every number.Suppose the following input is supplied to the program:\r\n",
    "\r\n",
    "34,67,55,33,12,98\r\n",
    "\r\n",
    "Then, the output should be:\r\n",
    "\r\n",
    "['34', '67', '55', '33', '12', '98'] ('34', '67', '55', '33', '12', '98')</p>"
   ]
  },
  {
   "cell_type": "code",
   "execution_count": 4,
   "id": "812e8a63-cc11-4b7b-83b9-8d9179ab3470",
   "metadata": {},
   "outputs": [
    {
     "name": "stdin",
     "output_type": "stream",
     "text": [
      "Enter comma seperated sequence 12,54,81,5,11,62,27,15\n"
     ]
    },
    {
     "name": "stdout",
     "output_type": "stream",
     "text": [
      "given sequence 12,54,81,5,11,62,27,15\n",
      "Tuple\n",
      "('12', '54', '81', '5', '11', '62', '27', '15')\n",
      "List\n",
      "['12', '54', '81', '5', '11', '62', '27', '15']\n"
     ]
    }
   ],
   "source": [
    "##### question 1 answer\n",
    "given_input = input(\"Enter comma seperated sequence\")\n",
    "print(f\"given sequence {given_input}\")\n",
    "print(\"Tuple\",tuple(given_input.split(\",\")),sep=\"\\n\")\n",
    "print(\"List\",given_input.split(\",\"),sep=\"\\n\")\n"
   ]
  }
 ],
 "metadata": {
  "kernelspec": {
   "display_name": "Python 3 (ipykernel)",
   "language": "python",
   "name": "python3"
  },
  "language_info": {
   "codemirror_mode": {
    "name": "ipython",
    "version": 3
   },
   "file_extension": ".py",
   "mimetype": "text/x-python",
   "name": "python",
   "nbconvert_exporter": "python",
   "pygments_lexer": "ipython3",
   "version": "3.9.13"
  }
 },
 "nbformat": 4,
 "nbformat_minor": 5
}
