{
 "cells": [
  {
   "cell_type": "code",
   "execution_count": 3,
   "id": "f2ca8880-b24f-48ce-904a-10efa98c47ab",
   "metadata": {},
   "outputs": [],
   "source": [
    "#  python  .\\GuessNumber.py\n",
    "# Guess the number :74\n",
    "# oh try higher\n",
    "# Enter number to continue :) 98\n",
    "# oh try lower\n",
    "# Enter number to continue :) 85\n",
    "# oh try higher\n",
    "# Enter number to continue :) 86\n",
    "# oh try higher\n",
    "# Enter number to continue :) 91\n",
    "# oh try higher\n",
    "# Enter number to continue :) 95\n",
    "# Great yes it is 95"
   ]
  },
  {
   "cell_type": "code",
   "execution_count": 2,
   "id": "b703ac3d-d0b3-492c-aae4-744b7ff403a5",
   "metadata": {},
   "outputs": [
    {
     "name": "stdin",
     "output_type": "stream",
     "text": [
      "Guess the number : 90\n"
     ]
    },
    {
     "name": "stdout",
     "output_type": "stream",
     "text": [
      "oh try lower\n"
     ]
    },
    {
     "name": "stdin",
     "output_type": "stream",
     "text": [
      "Enter number to continue :)  65\n"
     ]
    },
    {
     "name": "stdout",
     "output_type": "stream",
     "text": [
      "oh try lower\n"
     ]
    },
    {
     "name": "stdin",
     "output_type": "stream",
     "text": [
      "Enter number to continue :)  10\n"
     ]
    },
    {
     "name": "stdout",
     "output_type": "stream",
     "text": [
      "oh try higher\n"
     ]
    },
    {
     "name": "stdin",
     "output_type": "stream",
     "text": [
      "Enter number to continue :)  20\n"
     ]
    },
    {
     "name": "stdout",
     "output_type": "stream",
     "text": [
      "oh try higher\n"
     ]
    },
    {
     "name": "stdin",
     "output_type": "stream",
     "text": [
      "Enter number to continue :)  40\n"
     ]
    },
    {
     "name": "stdout",
     "output_type": "stream",
     "text": [
      "oh try lower\n"
     ]
    },
    {
     "name": "stdin",
     "output_type": "stream",
     "text": [
      "Enter number to continue :)  35\n"
     ]
    },
    {
     "name": "stdout",
     "output_type": "stream",
     "text": [
      "oh try lower\n"
     ]
    },
    {
     "name": "stdin",
     "output_type": "stream",
     "text": [
      "Enter number to continue :)  29\n"
     ]
    },
    {
     "name": "stdout",
     "output_type": "stream",
     "text": [
      "oh try higher\n"
     ]
    },
    {
     "name": "stdin",
     "output_type": "stream",
     "text": [
      "Enter number to continue :)  32\n"
     ]
    },
    {
     "name": "stdout",
     "output_type": "stream",
     "text": [
      "Great yes it is 32\n"
     ]
    }
   ],
   "source": [
    "import GuessNumber as GN\n",
    "GN.play(1,100)"
   ]
  },
  {
   "cell_type": "code",
   "execution_count": 1,
   "id": "77c2be63-5bd4-4b18-b038-01079f5222fe",
   "metadata": {},
   "outputs": [
    {
     "name": "stdin",
     "output_type": "stream",
     "text": [
      "Guess the number : 54\n"
     ]
    },
    {
     "name": "stdout",
     "output_type": "stream",
     "text": [
      "oh try lower\n"
     ]
    },
    {
     "name": "stdin",
     "output_type": "stream",
     "text": [
      "Enter number to continue :)  \n"
     ]
    },
    {
     "name": "stdout",
     "output_type": "stream",
     "text": [
      "Thanks for playing, ans is : 1\n"
     ]
    }
   ],
   "source": [
    "import GuessNumber as GN\n",
    "GN.play(1,100)"
   ]
  },
  {
   "cell_type": "code",
   "execution_count": null,
   "id": "d62cd790-fb73-4e3c-82d8-24faa3af6f40",
   "metadata": {},
   "outputs": [],
   "source": []
  }
 ],
 "metadata": {
  "kernelspec": {
   "display_name": "Python 3 (ipykernel)",
   "language": "python",
   "name": "python3"
  },
  "language_info": {
   "codemirror_mode": {
    "name": "ipython",
    "version": 3
   },
   "file_extension": ".py",
   "mimetype": "text/x-python",
   "name": "python",
   "nbconvert_exporter": "python",
   "pygments_lexer": "ipython3",
   "version": "3.9.13"
  }
 },
 "nbformat": 4,
 "nbformat_minor": 5
}
