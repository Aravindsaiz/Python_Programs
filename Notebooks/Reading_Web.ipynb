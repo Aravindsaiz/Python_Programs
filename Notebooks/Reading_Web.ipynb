{
 "cells": [
  {
   "cell_type": "code",
   "execution_count": 24,
   "id": "ac6e1fc5-7f58-45f1-8720-be79f68ebbca",
   "metadata": {},
   "outputs": [],
   "source": [
    "import requests"
   ]
  },
  {
   "cell_type": "code",
   "execution_count": 25,
   "id": "f0726895-7c38-487e-936b-a04f48b1e243",
   "metadata": {},
   "outputs": [],
   "source": [
    "from bs4 import BeautifulSoup as bs"
   ]
  },
  {
   "cell_type": "code",
   "execution_count": 26,
   "id": "c2f4c674-44f3-455f-9dcf-b669da4ee140",
   "metadata": {},
   "outputs": [],
   "source": [
    "res = requests.get(\"https://news.ycombinator.com/\")"
   ]
  },
  {
   "cell_type": "code",
   "execution_count": 27,
   "id": "8c8dd057-2fe1-43ec-9458-1e885d3a7335",
   "metadata": {},
   "outputs": [
    {
     "data": {
      "text/plain": [
       "200"
      ]
     },
     "execution_count": 27,
     "metadata": {},
     "output_type": "execute_result"
    }
   ],
   "source": [
    "res.status_code"
   ]
  },
  {
   "cell_type": "code",
   "execution_count": 28,
   "id": "3c59b22e-4495-4c33-9dfc-bf9b50511049",
   "metadata": {},
   "outputs": [],
   "source": [
    "web = bs(res.text,\"html.parser\")"
   ]
  },
  {
   "cell_type": "code",
   "execution_count": 29,
   "id": "f74f9a0a-797a-4b2d-abb2-809e10fc0302",
   "metadata": {},
   "outputs": [
    {
     "name": "stdout",
     "output_type": "stream",
     "text": [
      "<title>Hacker News</title>\n"
     ]
    }
   ],
   "source": [
    "print(web.title)"
   ]
  },
  {
   "cell_type": "code",
   "execution_count": 30,
   "id": "28d5b742-6ec7-40f9-881a-5922d790d83e",
   "metadata": {},
   "outputs": [],
   "source": [
    "links = web.select(\".titleline\")"
   ]
  },
  {
   "cell_type": "code",
   "execution_count": 32,
   "id": "1ed32924-d1fc-415f-a0cf-effe385f603d",
   "metadata": {},
   "outputs": [],
   "source": [
    "subtext = web.select(\".subtext\")"
   ]
  },
  {
   "cell_type": "code",
   "execution_count": 33,
   "id": "fb8a740f-ce1a-4fe9-952b-8d6f0330ec9e",
   "metadata": {},
   "outputs": [],
   "source": [
    "hackernews = []"
   ]
  },
  {
   "cell_type": "code",
   "execution_count": 35,
   "id": "f0808670-5531-4a71-92cc-fb12465afd9d",
   "metadata": {},
   "outputs": [],
   "source": [
    "for index, news in enumerate(links):\n",
    "    title = news.getText().split(\"(\")[0]\n",
    "    url = news.select(\"a\")[0].get('href',None)\n",
    "    subline = subtext[index].select(\".subline\")\n",
    "    if subline:\n",
    "        votes=subline[0].select(\".score\")   \n",
    "        if votes:\n",
    "            points = votes[0].getText().replace(\" points\",\"\")\n",
    "            hackernews.append({\"Title\":title,\"Link\":url,\"Points\":int(points)})\n",
    "    \n",
    "    "
   ]
  },
  {
   "cell_type": "code",
   "execution_count": 36,
   "id": "a8b7b62d-a71e-449f-8dd4-7dea1970f37e",
   "metadata": {},
   "outputs": [
    {
     "data": {
      "text/plain": [
       "{'Title': 'ESASky ', 'Link': 'https://sky.esa.int/esasky/', 'Points': 199}"
      ]
     },
     "execution_count": 36,
     "metadata": {},
     "output_type": "execute_result"
    }
   ],
   "source": [
    "hackernews[0]"
   ]
  },
  {
   "cell_type": "code",
   "execution_count": 38,
   "id": "e86f397d-0b5e-42a9-afdd-635bc4ce9abb",
   "metadata": {},
   "outputs": [],
   "source": [
    "#sort by points in descending\n",
    "sorted_news = sorted(hackernews,key = lambda item : item['Points'],reverse=True)"
   ]
  },
  {
   "cell_type": "code",
   "execution_count": 39,
   "id": "2d290cbe-ae66-417e-90a8-4b636fe8939f",
   "metadata": {},
   "outputs": [
    {
     "data": {
      "text/plain": [
       "{'Title': 'Voyager 1 is back online! NASA spacecraft returns data from all 4 instruments ',\n",
       " 'Link': 'https://www.space.com/voyager-1-fully-operational',\n",
       " 'Points': 852}"
      ]
     },
     "execution_count": 39,
     "metadata": {},
     "output_type": "execute_result"
    }
   ],
   "source": [
    "sorted_news[0]"
   ]
  },
  {
   "cell_type": "code",
   "execution_count": 40,
   "id": "92f2d5d9-122a-4aa8-bb13-b2c1289ce19c",
   "metadata": {},
   "outputs": [],
   "source": [
    "import pandas as pd"
   ]
  },
  {
   "cell_type": "code",
   "execution_count": 48,
   "id": "a99eb474-933f-4d56-b614-eca93ed17a46",
   "metadata": {},
   "outputs": [],
   "source": [
    "news_dataframe = pd.DataFrame(sorted_news)"
   ]
  },
  {
   "cell_type": "code",
   "execution_count": 49,
   "id": "13c15ecc-afbc-4c1b-ac91-138bcac77cf4",
   "metadata": {},
   "outputs": [
    {
     "data": {
      "text/html": [
       "<div>\n",
       "<style scoped>\n",
       "    .dataframe tbody tr th:only-of-type {\n",
       "        vertical-align: middle;\n",
       "    }\n",
       "\n",
       "    .dataframe tbody tr th {\n",
       "        vertical-align: top;\n",
       "    }\n",
       "\n",
       "    .dataframe thead th {\n",
       "        text-align: right;\n",
       "    }\n",
       "</style>\n",
       "<table border=\"1\" class=\"dataframe\">\n",
       "  <thead>\n",
       "    <tr style=\"text-align: right;\">\n",
       "      <th></th>\n",
       "      <th>Title</th>\n",
       "      <th>Link</th>\n",
       "      <th>Points</th>\n",
       "    </tr>\n",
       "  </thead>\n",
       "  <tbody>\n",
       "    <tr>\n",
       "      <th>0</th>\n",
       "      <td>Voyager 1 is back online! NASA spacecraft retu...</td>\n",
       "      <td>https://www.space.com/voyager-1-fully-operational</td>\n",
       "      <td>852</td>\n",
       "    </tr>\n",
       "    <tr>\n",
       "      <th>1</th>\n",
       "      <td>Perplexity AI is lying about their user agent</td>\n",
       "      <td>https://rknight.me/blog/perplexity-ai-is-lying...</td>\n",
       "      <td>438</td>\n",
       "    </tr>\n",
       "    <tr>\n",
       "      <th>2</th>\n",
       "      <td>ESASky</td>\n",
       "      <td>https://sky.esa.int/esasky/</td>\n",
       "      <td>199</td>\n",
       "    </tr>\n",
       "    <tr>\n",
       "      <th>3</th>\n",
       "      <td>Leveraging Zig's Allocators</td>\n",
       "      <td>https://www.openmymind.net/Leveraging-Zigs-All...</td>\n",
       "      <td>153</td>\n",
       "    </tr>\n",
       "    <tr>\n",
       "      <th>4</th>\n",
       "      <td>Threescaper: A website for loading Townscaper ...</td>\n",
       "      <td>https://github.com/meliharvey/threescaper</td>\n",
       "      <td>138</td>\n",
       "    </tr>\n",
       "    <tr>\n",
       "      <th>5</th>\n",
       "      <td>A most profound video game: a good cognitive a...</td>\n",
       "      <td>https://thoughtforms.life/a-most-profound-vide...</td>\n",
       "      <td>117</td>\n",
       "    </tr>\n",
       "    <tr>\n",
       "      <th>6</th>\n",
       "      <td>Engineer's solar panels are breaking efficienc...</td>\n",
       "      <td>https://spectrum.ieee.org/solar-panels-breakin...</td>\n",
       "      <td>90</td>\n",
       "    </tr>\n",
       "    <tr>\n",
       "      <th>7</th>\n",
       "      <td>Address Sanitizer Internals</td>\n",
       "      <td>https://blog.gistre.epita.fr/posts/benjamin.pe...</td>\n",
       "      <td>90</td>\n",
       "    </tr>\n",
       "    <tr>\n",
       "      <th>8</th>\n",
       "      <td>You've Read Your Last Free Article, Such Is th...</td>\n",
       "      <td>https://www.mcsweeneys.net/articles/youve-read...</td>\n",
       "      <td>89</td>\n",
       "    </tr>\n",
       "    <tr>\n",
       "      <th>9</th>\n",
       "      <td>Impulse Tracker source code now available on G...</td>\n",
       "      <td>https://github.com/jthlim/impulse-tracker</td>\n",
       "      <td>86</td>\n",
       "    </tr>\n",
       "    <tr>\n",
       "      <th>10</th>\n",
       "      <td>Book: Just Enough Software Architecture</td>\n",
       "      <td>https://www.georgefairbanks.com/book/</td>\n",
       "      <td>70</td>\n",
       "    </tr>\n",
       "    <tr>\n",
       "      <th>11</th>\n",
       "      <td>Perfectionism is optimizing at the wrong scale</td>\n",
       "      <td>https://www.autodidacts.io/holistic-perfection...</td>\n",
       "      <td>69</td>\n",
       "    </tr>\n",
       "    <tr>\n",
       "      <th>12</th>\n",
       "      <td>Can Language Models Serve as Text-Based World ...</td>\n",
       "      <td>https://arxiv.org/abs/2406.06485</td>\n",
       "      <td>62</td>\n",
       "    </tr>\n",
       "    <tr>\n",
       "      <th>13</th>\n",
       "      <td>Is This the First Nintendo Commercial?</td>\n",
       "      <td>https://gamehistory.org/mego-time-out-commercial/</td>\n",
       "      <td>60</td>\n",
       "    </tr>\n",
       "    <tr>\n",
       "      <th>14</th>\n",
       "      <td>Southwest flight came within 400 feet of crash...</td>\n",
       "      <td>https://www.cnn.com/2024/06/15/us/southwest-fl...</td>\n",
       "      <td>59</td>\n",
       "    </tr>\n",
       "    <tr>\n",
       "      <th>15</th>\n",
       "      <td>Show HN: Keydogger – Minimal keyboard macro fo...</td>\n",
       "      <td>https://github.com/jarusll/keydogger</td>\n",
       "      <td>53</td>\n",
       "    </tr>\n",
       "    <tr>\n",
       "      <th>16</th>\n",
       "      <td>Two announcements: AI for Math resources, and ...</td>\n",
       "      <td>https://terrytao.wordpress.com/2024/04/19/two-...</td>\n",
       "      <td>52</td>\n",
       "    </tr>\n",
       "    <tr>\n",
       "      <th>17</th>\n",
       "      <td>Acorn Computer Systems catalogue circa 1983</td>\n",
       "      <td>https://blog.jgc.org/2024/06/acorn-computer-sy...</td>\n",
       "      <td>52</td>\n",
       "    </tr>\n",
       "    <tr>\n",
       "      <th>18</th>\n",
       "      <td>Sans Bullshit Sans</td>\n",
       "      <td>https://www.sansbullshitsans.com/</td>\n",
       "      <td>49</td>\n",
       "    </tr>\n",
       "    <tr>\n",
       "      <th>19</th>\n",
       "      <td>'The big problem is water': UK ebike owners pl...</td>\n",
       "      <td>https://www.theguardian.com/lifeandstyle/artic...</td>\n",
       "      <td>48</td>\n",
       "    </tr>\n",
       "    <tr>\n",
       "      <th>20</th>\n",
       "      <td>DARPA Shows Concepts for the Future of VTOL Un...</td>\n",
       "      <td>https://www.darpa.mil/news-events/2024-05-22</td>\n",
       "      <td>42</td>\n",
       "    </tr>\n",
       "    <tr>\n",
       "      <th>21</th>\n",
       "      <td>The State of Carbon Dioxide Removal</td>\n",
       "      <td>https://www.stateofcdr.org</td>\n",
       "      <td>32</td>\n",
       "    </tr>\n",
       "    <tr>\n",
       "      <th>22</th>\n",
       "      <td>Reverse Engineering a Restaurant Pager System</td>\n",
       "      <td>https://k3xec.com/td158/</td>\n",
       "      <td>22</td>\n",
       "    </tr>\n",
       "    <tr>\n",
       "      <th>23</th>\n",
       "      <td>Topological Problems in Voting</td>\n",
       "      <td>https://www.ryantolsma.com/thoughts/2024/06/14...</td>\n",
       "      <td>21</td>\n",
       "    </tr>\n",
       "    <tr>\n",
       "      <th>24</th>\n",
       "      <td>Ask HN: Do You Have a Copy of IBM \"Logo: Progr...</td>\n",
       "      <td>item?id=40691792</td>\n",
       "      <td>21</td>\n",
       "    </tr>\n",
       "    <tr>\n",
       "      <th>25</th>\n",
       "      <td>Some early results for feed reader behavior mo...</td>\n",
       "      <td>http://rachelbythebay.com/w/2024/06/11/fsr/</td>\n",
       "      <td>20</td>\n",
       "    </tr>\n",
       "    <tr>\n",
       "      <th>26</th>\n",
       "      <td>Martin Amis and the Pursuit of Pleasure</td>\n",
       "      <td>https://www.newstatesman.com/culture/books/202...</td>\n",
       "      <td>11</td>\n",
       "    </tr>\n",
       "    <tr>\n",
       "      <th>27</th>\n",
       "      <td>The Sociological Study of Mental Illness: A Hi...</td>\n",
       "      <td>https://www.madinamerica.com/2016/07/the-socio...</td>\n",
       "      <td>6</td>\n",
       "    </tr>\n",
       "    <tr>\n",
       "      <th>28</th>\n",
       "      <td>Finding New Pastures: Big Nerd Ranch's Next Ch...</td>\n",
       "      <td>https://bignerdranch.com/blog/finding-new-past...</td>\n",
       "      <td>3</td>\n",
       "    </tr>\n",
       "  </tbody>\n",
       "</table>\n",
       "</div>"
      ],
      "text/plain": [
       "                                                Title  \\\n",
       "0   Voyager 1 is back online! NASA spacecraft retu...   \n",
       "1      Perplexity AI is lying about their user agent    \n",
       "2                                             ESASky    \n",
       "3                        Leveraging Zig's Allocators    \n",
       "4   Threescaper: A website for loading Townscaper ...   \n",
       "5   A most profound video game: a good cognitive a...   \n",
       "6   Engineer's solar panels are breaking efficienc...   \n",
       "7                        Address Sanitizer Internals    \n",
       "8   You've Read Your Last Free Article, Such Is th...   \n",
       "9   Impulse Tracker source code now available on G...   \n",
       "10           Book: Just Enough Software Architecture    \n",
       "11    Perfectionism is optimizing at the wrong scale    \n",
       "12  Can Language Models Serve as Text-Based World ...   \n",
       "13            Is This the First Nintendo Commercial?    \n",
       "14  Southwest flight came within 400 feet of crash...   \n",
       "15  Show HN: Keydogger – Minimal keyboard macro fo...   \n",
       "16  Two announcements: AI for Math resources, and ...   \n",
       "17       Acorn Computer Systems catalogue circa 1983    \n",
       "18                                Sans Bullshit Sans    \n",
       "19  'The big problem is water': UK ebike owners pl...   \n",
       "20  DARPA Shows Concepts for the Future of VTOL Un...   \n",
       "21               The State of Carbon Dioxide Removal    \n",
       "22     Reverse Engineering a Restaurant Pager System    \n",
       "23                    Topological Problems in Voting    \n",
       "24  Ask HN: Do You Have a Copy of IBM \"Logo: Progr...   \n",
       "25  Some early results for feed reader behavior mo...   \n",
       "26           Martin Amis and the Pursuit of Pleasure    \n",
       "27  The Sociological Study of Mental Illness: A Hi...   \n",
       "28  Finding New Pastures: Big Nerd Ranch's Next Ch...   \n",
       "\n",
       "                                                 Link  Points  \n",
       "0   https://www.space.com/voyager-1-fully-operational     852  \n",
       "1   https://rknight.me/blog/perplexity-ai-is-lying...     438  \n",
       "2                         https://sky.esa.int/esasky/     199  \n",
       "3   https://www.openmymind.net/Leveraging-Zigs-All...     153  \n",
       "4           https://github.com/meliharvey/threescaper     138  \n",
       "5   https://thoughtforms.life/a-most-profound-vide...     117  \n",
       "6   https://spectrum.ieee.org/solar-panels-breakin...      90  \n",
       "7   https://blog.gistre.epita.fr/posts/benjamin.pe...      90  \n",
       "8   https://www.mcsweeneys.net/articles/youve-read...      89  \n",
       "9           https://github.com/jthlim/impulse-tracker      86  \n",
       "10              https://www.georgefairbanks.com/book/      70  \n",
       "11  https://www.autodidacts.io/holistic-perfection...      69  \n",
       "12                   https://arxiv.org/abs/2406.06485      62  \n",
       "13  https://gamehistory.org/mego-time-out-commercial/      60  \n",
       "14  https://www.cnn.com/2024/06/15/us/southwest-fl...      59  \n",
       "15               https://github.com/jarusll/keydogger      53  \n",
       "16  https://terrytao.wordpress.com/2024/04/19/two-...      52  \n",
       "17  https://blog.jgc.org/2024/06/acorn-computer-sy...      52  \n",
       "18                  https://www.sansbullshitsans.com/      49  \n",
       "19  https://www.theguardian.com/lifeandstyle/artic...      48  \n",
       "20       https://www.darpa.mil/news-events/2024-05-22      42  \n",
       "21                         https://www.stateofcdr.org      32  \n",
       "22                           https://k3xec.com/td158/      22  \n",
       "23  https://www.ryantolsma.com/thoughts/2024/06/14...      21  \n",
       "24                                   item?id=40691792      21  \n",
       "25        http://rachelbythebay.com/w/2024/06/11/fsr/      20  \n",
       "26  https://www.newstatesman.com/culture/books/202...      11  \n",
       "27  https://www.madinamerica.com/2016/07/the-socio...       6  \n",
       "28  https://bignerdranch.com/blog/finding-new-past...       3  "
      ]
     },
     "execution_count": 49,
     "metadata": {},
     "output_type": "execute_result"
    }
   ],
   "source": [
    "news_dataframe"
   ]
  },
  {
   "cell_type": "code",
   "execution_count": null,
   "id": "207c9493-9b84-4982-86bb-7b70951ba301",
   "metadata": {},
   "outputs": [],
   "source": []
  }
 ],
 "metadata": {
  "kernelspec": {
   "display_name": "Python 3 (ipykernel)",
   "language": "python",
   "name": "python3"
  },
  "language_info": {
   "codemirror_mode": {
    "name": "ipython",
    "version": 3
   },
   "file_extension": ".py",
   "mimetype": "text/x-python",
   "name": "python",
   "nbconvert_exporter": "python",
   "pygments_lexer": "ipython3",
   "version": "3.9.13"
  }
 },
 "nbformat": 4,
 "nbformat_minor": 5
}
