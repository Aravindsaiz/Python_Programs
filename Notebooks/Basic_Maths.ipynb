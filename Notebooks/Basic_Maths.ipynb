{
 "cells": [
  {
   "cell_type": "markdown",
   "id": "266842a6-62ea-49de-b0fe-1add80eecdd7",
   "metadata": {},
   "source": [
    "<h3>Question 1: </h3>\r",
    "<p>\n",
    "Write a program which will find all such numbers which are divisible by 7 but are not a multiple of 5, between 2000 and 3200 (both included).The numbers obtained should be printed in a comma-separated sequence on a single line</p>."
   ]
  },
  {
   "cell_type": "code",
   "execution_count": 8,
   "id": "a707433a-2628-4bd4-aa61-2db5e0f85644",
   "metadata": {},
   "outputs": [],
   "source": [
    "#question 1 Answer 1/2\n",
    "def uncommon_multiples(num1:int,num2:int,range_start:int,range_end:int):\n",
    "    \"\"\"\n",
    "    num1 : integer, should pass number with whom numbers should be divisible\n",
    "    num2 : inteher, should pass number with whom numbers shouldn't be divisible\n",
    "    range_start: int\n",
    "    range_end: int\n",
    "    this is a generator function yield each number that satifies condition\n",
    "    \n",
    "    \"\"\"\n",
    "    for i in range(range_start,range_end+1) :\n",
    "        if (i%num1==0) and (i%num2!=0):\n",
    "             yield i\n",
    "    "
   ]
  },
  {
   "cell_type": "code",
   "execution_count": 10,
   "id": "c0cb3a37-8a0b-40f1-9836-1bd14bf1e17e",
   "metadata": {},
   "outputs": [
    {
     "name": "stdout",
     "output_type": "stream",
     "text": [
      "2002,2009,2016,2023,2037,2044,2051,2058,2072,2079,2086,2093,2107,2114,2121,2128,2142,2149,2156,2163,2177,2184,2191,2198,2212,2219,2226,2233,2247,2254,2261,2268,2282,2289,2296,2303,2317,2324,2331,2338,2352,2359,2366,2373,2387,2394,2401,2408,2422,2429,2436,2443,2457,2464,2471,2478,2492,2499,2506,2513,2527,2534,2541,2548,2562,2569,2576,2583,2597,2604,2611,2618,2632,2639,2646,2653,2667,2674,2681,2688,2702,2709,2716,2723,2737,2744,2751,2758,2772,2779,2786,2793,2807,2814,2821,2828,2842,2849,2856,2863,2877,2884,2891,2898,2912,2919,2926,2933,2947,2954,2961,2968,2982,2989,2996,3003,3017,3024,3031,3038,3052,3059,3066,3073,3087,3094,3101,3108,3122,3129,3136,3143,3157,3164,3171,3178,3192,3199"
     ]
    }
   ],
   "source": [
    "#question 1 Answer 2/2\n",
    "first=True\n",
    "for number in uncommon_multiples(7,5,2000,3200):\n",
    "    if first:\n",
    "        print(number,end=\"\")\n",
    "        first=False\n",
    "    else:\n",
    "        print(\"\",number,sep=\",\",end=\"\")"
   ]
  },
  {
   "cell_type": "code",
   "execution_count": null,
   "id": "c64805cf-3c7a-4b0b-b351-a2daa1ffc815",
   "metadata": {},
   "outputs": [],
   "source": []
  },
  {
   "cell_type": "markdown",
   "id": "2b52b7ab-8db2-4309-95dc-0224d9897703",
   "metadata": {},
   "source": [
    "<h3>Question 2:</h3>\n",
    "<p>Take a number from user input print it's factorial</p>"
   ]
  },
  {
   "cell_type": "code",
   "execution_count": 17,
   "id": "1080bbda-ebfa-49be-bbe0-14c2da1db593",
   "metadata": {},
   "outputs": [
    {
     "name": "stdin",
     "output_type": "stream",
     "text": [
      "Enter a number  14\n"
     ]
    },
    {
     "name": "stdout",
     "output_type": "stream",
     "text": [
      "Factorial of the number is: 87178291200\n"
     ]
    }
   ],
   "source": [
    "def factorialof(num:int):\n",
    "    if num < 0:\n",
    "        return \"please enter +ve number\"\n",
    "    else:\n",
    "        ans = 1\n",
    "        while num>0:\n",
    "            ans = ans*num\n",
    "            num-=1\n",
    "        return ans\n",
    "\n",
    "print(\"Factorial of the number is:\",factorialof(int(input(\"Enter a number \"))))"
   ]
  },
  {
   "cell_type": "code",
   "execution_count": null,
   "id": "c9af75b1-a9e6-4519-913e-a8208dbe19a4",
   "metadata": {},
   "outputs": [],
   "source": []
  }
 ],
 "metadata": {
  "kernelspec": {
   "display_name": "Python 3 (ipykernel)",
   "language": "python",
   "name": "python3"
  },
  "language_info": {
   "codemirror_mode": {
    "name": "ipython",
    "version": 3
   },
   "file_extension": ".py",
   "mimetype": "text/x-python",
   "name": "python",
   "nbconvert_exporter": "python",
   "pygments_lexer": "ipython3",
   "version": "3.9.13"
  }
 },
 "nbformat": 4,
 "nbformat_minor": 5
}
