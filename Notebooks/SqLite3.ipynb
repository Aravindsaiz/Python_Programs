{
 "cells": [
  {
   "cell_type": "code",
   "execution_count": 2,
   "id": "d1fa6485-bf26-4594-812f-826d07bdeb03",
   "metadata": {},
   "outputs": [],
   "source": [
    "import sqlite3"
   ]
  },
  {
   "cell_type": "code",
   "execution_count": 3,
   "id": "84ed8341-2b48-435d-b18d-4847635f787a",
   "metadata": {},
   "outputs": [],
   "source": [
    "db = sqlite3.connect('DB.db')"
   ]
  },
  {
   "cell_type": "code",
   "execution_count": 5,
   "id": "8e6260ac-dbb3-4f77-8a93-1c1cd7e4f90b",
   "metadata": {},
   "outputs": [],
   "source": [
    "cur = db.cursor()"
   ]
  },
  {
   "cell_type": "code",
   "execution_count": 6,
   "id": "06853a86-f61d-40be-948f-8c911209613c",
   "metadata": {},
   "outputs": [
    {
     "data": {
      "text/plain": [
       "<sqlite3.Cursor at 0x1f4ddb3e6c0>"
      ]
     },
     "execution_count": 6,
     "metadata": {},
     "output_type": "execute_result"
    }
   ],
   "source": [
    "cur.execute(\"CREATE TABLE MOVIE (NAME VARCHAR(20),YEAR INT,IMDB INT)\")"
   ]
  },
  {
   "cell_type": "code",
   "execution_count": 10,
   "id": "23aa2d8a-09db-42eb-a721-29dd84e71e1b",
   "metadata": {},
   "outputs": [],
   "source": [
    "insert_query = \"\"\" INSERT INTO MOVIE VALUES ('BAHUBALI',2019,9.2)\"\"\""
   ]
  },
  {
   "cell_type": "code",
   "execution_count": 13,
   "id": "be169a95-b01c-4b37-b3f3-a0db9b2ec5bc",
   "metadata": {},
   "outputs": [],
   "source": [
    "cur.execute(insert_query)\n",
    "db.commit()"
   ]
  },
  {
   "cell_type": "code",
   "execution_count": 14,
   "id": "9df80a21-0c54-4307-a086-3498bab5cf7c",
   "metadata": {},
   "outputs": [],
   "source": [
    "res = cur.execute(\"SELECT * FROM MOVIE\")"
   ]
  },
  {
   "cell_type": "code",
   "execution_count": 15,
   "id": "1ab17a4b-fe2e-46df-b517-b510ef2fe274",
   "metadata": {},
   "outputs": [
    {
     "data": {
      "text/plain": [
       "('BAHUBALI', 2019, 9.2)"
      ]
     },
     "execution_count": 15,
     "metadata": {},
     "output_type": "execute_result"
    }
   ],
   "source": [
    "res.fetchone()"
   ]
  },
  {
   "cell_type": "code",
   "execution_count": null,
   "id": "c0095eab-af99-4693-a55f-30656b1efe04",
   "metadata": {},
   "outputs": [],
   "source": []
  }
 ],
 "metadata": {
  "kernelspec": {
   "display_name": "Python 3 (ipykernel)",
   "language": "python",
   "name": "python3"
  },
  "language_info": {
   "codemirror_mode": {
    "name": "ipython",
    "version": 3
   },
   "file_extension": ".py",
   "mimetype": "text/x-python",
   "name": "python",
   "nbconvert_exporter": "python",
   "pygments_lexer": "ipython3",
   "version": "3.9.13"
  }
 },
 "nbformat": 4,
 "nbformat_minor": 5
}
